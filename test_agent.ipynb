{
 "cells": [
  {
   "cell_type": "code",
   "execution_count": 1,
   "metadata": {},
   "outputs": [
    {
     "name": "stderr",
     "output_type": "stream",
     "text": [
      "INFO:unityagents:\n",
      "'Academy' started successfully!\n",
      "Unity Academy name: Academy\n",
      "        Number of Brains: 1\n",
      "        Number of External Brains : 1\n",
      "        Lesson number : 0\n",
      "        Reset Parameters :\n",
      "\t\t\n",
      "Unity brain name: BananaBrain\n",
      "        Number of Visual Observations (per agent): 0\n",
      "        Vector Observation space type: continuous\n",
      "        Vector Observation space size (per agent): 37\n",
      "        Number of stacked Vector Observation: 1\n",
      "        Vector Action space type: discrete\n",
      "        Vector Action space size (per agent): 4\n",
      "        Vector Action descriptions: , , , \n"
     ]
    }
   ],
   "source": [
    "from unityagents import UnityEnvironment\n",
    "import numpy as np\n",
    "import time\n",
    "\n",
    "# please do not modify the line below\n",
    "env = UnityEnvironment(file_name=\"Banana_Linux/Banana.x86_64\")"
   ]
  },
  {
   "cell_type": "code",
   "execution_count": 2,
   "metadata": {},
   "outputs": [],
   "source": [
    "# get the default brain\n",
    "brain_name = env.brain_names[0]\n",
    "brain = env.brains[brain_name]"
   ]
  },
  {
   "cell_type": "code",
   "execution_count": 3,
   "metadata": {},
   "outputs": [
    {
     "name": "stdout",
     "output_type": "stream",
     "text": [
      "Using device: cpu\n"
     ]
    }
   ],
   "source": [
    "from collections import deque\n",
    "from dqn_agent import Agent\n",
    "import torch\n",
    "\n",
    "# define agent\n",
    "agent = Agent(state_size=37, action_size=4, seed=0, dev_cpu=True)"
   ]
  },
  {
   "cell_type": "code",
   "execution_count": 4,
   "metadata": {},
   "outputs": [],
   "source": [
    "# load the weights from file\n",
    "agent.qnetwork_local.load_state_dict(torch.load('checkpoint.pth', map_location=lambda storage, loc: storage))"
   ]
  },
  {
   "cell_type": "code",
   "execution_count": 5,
   "metadata": {},
   "outputs": [],
   "source": [
    "# define the deep q-learning function\n",
    "def test_agent(max_t=300):\n",
    "        \n",
    "    env_info = env.reset(train_mode=True)[brain_name] # reset the environment\n",
    "    state = env_info.vector_observations[0]            # get the current state\n",
    "    score = 0                                         # initialize the score\n",
    "\n",
    "    for t in range(max_t):\n",
    "        action = agent.act(state, eps=0.0)\n",
    "\n",
    "        env_info = env.step(action)[brain_name]        # send the action to the environment\n",
    "        next_state = env_info.vector_observations[0]   # get the next state\n",
    "        reward = env_info.rewards[0]                   # get the reward\n",
    "        done = env_info.local_done[0]                  # see if episode has finished\n",
    "\n",
    "        score += reward                                # update the score\n",
    "        state = next_state                             # roll over the state to next time step\n",
    "\n",
    "        if done:\n",
    "            break\n",
    "\n",
    "        if t%10 == 0:\n",
    "            print('Step {}  \\t Score: {:.2f}'.format(t, score))\n",
    "        \n",
    "        time.sleep(0.05)\n",
    "            \n",
    "    if score>=13.0:\n",
    "        print('\\nTest Successful! \\t Score: {:.2f}'.format(score))\n",
    "        "
   ]
  },
  {
   "cell_type": "code",
   "execution_count": 6,
   "metadata": {},
   "outputs": [
    {
     "name": "stdout",
     "output_type": "stream",
     "text": [
      "Step 0  \t Score: 0.00\n",
      "Step 10  \t Score: 0.00\n",
      "Step 20  \t Score: 1.00\n",
      "Step 30  \t Score: 1.00\n",
      "Step 40  \t Score: 1.00\n",
      "Step 50  \t Score: 1.00\n",
      "Step 60  \t Score: 2.00\n",
      "Step 70  \t Score: 3.00\n",
      "Step 80  \t Score: 4.00\n",
      "Step 90  \t Score: 4.00\n",
      "Step 100  \t Score: 5.00\n",
      "Step 110  \t Score: 5.00\n",
      "Step 120  \t Score: 5.00\n",
      "Step 130  \t Score: 7.00\n",
      "Step 140  \t Score: 7.00\n",
      "Step 150  \t Score: 8.00\n",
      "Step 160  \t Score: 9.00\n",
      "Step 170  \t Score: 9.00\n",
      "Step 180  \t Score: 9.00\n",
      "Step 190  \t Score: 10.00\n",
      "Step 200  \t Score: 11.00\n",
      "Step 210  \t Score: 12.00\n",
      "Step 220  \t Score: 12.00\n",
      "Step 230  \t Score: 13.00\n",
      "Step 240  \t Score: 14.00\n",
      "Step 250  \t Score: 15.00\n",
      "Step 260  \t Score: 15.00\n",
      "Step 270  \t Score: 16.00\n",
      "Step 280  \t Score: 16.00\n",
      "Step 290  \t Score: 17.00\n",
      "\n",
      "Test Successful! \t Score: 18.00\n"
     ]
    }
   ],
   "source": [
    "# test the agent\n",
    "test_agent(300)"
   ]
  },
  {
   "cell_type": "code",
   "execution_count": 7,
   "metadata": {},
   "outputs": [],
   "source": [
    "env.close()"
   ]
  }
 ],
 "metadata": {
  "kernelspec": {
   "display_name": "Python 3",
   "language": "python",
   "name": "python3"
  },
  "language_info": {
   "codemirror_mode": {
    "name": "ipython",
    "version": 3
   },
   "file_extension": ".py",
   "mimetype": "text/x-python",
   "name": "python",
   "nbconvert_exporter": "python",
   "pygments_lexer": "ipython3",
   "version": "3.6.10"
  }
 },
 "nbformat": 4,
 "nbformat_minor": 2
}
